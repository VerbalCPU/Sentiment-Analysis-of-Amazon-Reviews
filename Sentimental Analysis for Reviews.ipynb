{
 "cells": [
  {
   "cell_type": "markdown",
   "metadata": {},
   "source": [
    "# Crusial Information\n",
    "Before you run this Jupyter Notebook, please make sure that you have installed in your system those packages:\n",
    "1. python     : 3.6.4\n",
    "2. numpy      : 1.15.4\n",
    "3. torchtext  : 0.3.1\n",
    "4. pandas     : 0.25.3\n",
    "5. pytorch    : 0.4.1\n",
    "6. matplotlib : 2.2.3\n",
    "7. seaborn    : 0.9.0"
   ]
  },
  {
   "cell_type": "markdown",
   "metadata": {},
   "source": [
    "# Import of the core modules and datasets"
   ]
  },
  {
   "cell_type": "code",
   "execution_count": 1,
   "metadata": {},
   "outputs": [],
   "source": [
    "import torch\n",
    "import time\n",
    "import random\n",
    "import pandas as pd\n",
    "import torch.optim as optim\n",
    "from torchtext import data\n",
    "from torchtext import datasets\n",
    "import matplotlib.pyplot as plt\n",
    "import seaborn as sns\n",
    "import torch.nn as nn\n",
    "import torch.nn.functional as F"
   ]
  },
  {
   "cell_type": "markdown",
   "metadata": {},
   "source": [
    "# Generation of bi-grams"
   ]
  },
  {
   "cell_type": "code",
   "execution_count": 2,
   "metadata": {},
   "outputs": [],
   "source": [
    "def bigrams(x):\n",
    "    n_grams = set(zip(*[x[i:] for i in range(3)]))\n",
    "    for n_gram in n_grams:\n",
    "        x.append(' '.join(n_gram))\n",
    "    return x"
   ]
  },
  {
   "cell_type": "code",
   "execution_count": 3,
   "metadata": {},
   "outputs": [
    {
     "name": "stderr",
     "output_type": "stream",
     "text": [
      "c:\\users\\tosodoulis\\appdata\\local\\programs\\python\\python36\\lib\\importlib\\_bootstrap.py:219: RuntimeWarning: cymem.cymem.Pool size changed, may indicate binary incompatibility. Expected 48 from C header, got 64 from PyObject\n",
      "  return f(*args, **kwds)\n",
      "c:\\users\\tosodoulis\\appdata\\local\\programs\\python\\python36\\lib\\importlib\\_bootstrap.py:219: RuntimeWarning: cymem.cymem.Address size changed, may indicate binary incompatibility. Expected 24 from C header, got 40 from PyObject\n",
      "  return f(*args, **kwds)\n",
      "c:\\users\\tosodoulis\\appdata\\local\\programs\\python\\python36\\lib\\importlib\\_bootstrap.py:219: RuntimeWarning: cymem.cymem.Pool size changed, may indicate binary incompatibility. Expected 48 from C header, got 64 from PyObject\n",
      "  return f(*args, **kwds)\n",
      "c:\\users\\tosodoulis\\appdata\\local\\programs\\python\\python36\\lib\\importlib\\_bootstrap.py:219: RuntimeWarning: cymem.cymem.Address size changed, may indicate binary incompatibility. Expected 24 from C header, got 40 from PyObject\n",
      "  return f(*args, **kwds)\n"
     ]
    }
   ],
   "source": [
    "TEXT = data.Field(tokenize='spacy', preprocessing=bigrams)\n",
    "LABEL = data.LabelField(dtype=torch.float)"
   ]
  },
  {
   "cell_type": "markdown",
   "metadata": {},
   "source": [
    "# Create the splits of the IMDB dataset"
   ]
  },
  {
   "cell_type": "code",
   "execution_count": 4,
   "metadata": {},
   "outputs": [],
   "source": [
    "SEED = 1234\n",
    "\n",
    "train_data, test_data = datasets.IMDB.splits(TEXT, LABEL)\n",
    "train_data, valid_data = train_data.split(random_state=random.seed(SEED))"
   ]
  },
  {
   "cell_type": "markdown",
   "metadata": {},
   "source": [
    "# Build the vocabulary and load the pre-trained word embeddings"
   ]
  },
  {
   "cell_type": "code",
   "execution_count": 5,
   "metadata": {},
   "outputs": [],
   "source": [
    "TEXT.build_vocab(train_data, max_size=25000, vectors=\"glove.840B.300d\")\n",
    "LABEL.build_vocab(train_data)"
   ]
  },
  {
   "cell_type": "markdown",
   "metadata": {},
   "source": [
    "# Create the iterators for the batches"
   ]
  },
  {
   "cell_type": "code",
   "execution_count": 6,
   "metadata": {},
   "outputs": [],
   "source": [
    "BATCH_SIZE = 64\n",
    "\n",
    "device = torch.device('cpu')\n",
    "train_iterator, valid_iterator, test_iterator = data.BucketIterator.splits(\n",
    "    (train_data, valid_data, test_data), \n",
    "    batch_size=BATCH_SIZE, \n",
    "    device=device)"
   ]
  },
  {
   "cell_type": "markdown",
   "metadata": {},
   "source": [
    "## Model design"
   ]
  },
  {
   "cell_type": "code",
   "execution_count": 7,
   "metadata": {},
   "outputs": [],
   "source": [
    "class FastText(nn.Module):\n",
    "    def __init__(self, vocab_size, embedding_dim, output_dim):\n",
    "        super().__init__()\n",
    "        \n",
    "        self.embedding = nn.Embedding(vocab_size, embedding_dim)\n",
    "        self.fc = nn.Linear(embedding_dim, output_dim)\n",
    "        \n",
    "    def forward(self, x):\n",
    "          \n",
    "        embedded = self.embedding(x)              \n",
    "        embedded = embedded.permute(1, 0, 2)        \n",
    "        pooled = F.avg_pool2d(embedded, (embedded.shape[1], 1)).squeeze(1)        \n",
    "        return self.fc(pooled)"
   ]
  },
  {
   "cell_type": "markdown",
   "metadata": {},
   "source": [
    "## Model initialization"
   ]
  },
  {
   "cell_type": "code",
   "execution_count": 8,
   "metadata": {},
   "outputs": [],
   "source": [
    "INPUT_DIM = len(TEXT.vocab)\n",
    "EMBEDDING_DIM = 300\n",
    "OUTPUT_DIM = 1\n",
    "\n",
    "model = FastText(INPUT_DIM, EMBEDDING_DIM, OUTPUT_DIM)"
   ]
  },
  {
   "cell_type": "code",
   "execution_count": 9,
   "metadata": {},
   "outputs": [
    {
     "data": {
      "text/plain": [
       "tensor([[ 0.0000,  0.0000,  0.0000,  ...,  0.0000,  0.0000,  0.0000],\n",
       "        [ 0.0000,  0.0000,  0.0000,  ...,  0.0000,  0.0000,  0.0000],\n",
       "        [ 0.2720, -0.0620, -0.1884,  ...,  0.1302, -0.1832,  0.1323],\n",
       "        ...,\n",
       "        [ 0.1616, -0.0865, -0.0549,  ...,  0.0798,  0.0682, -0.2743],\n",
       "        [-0.7620,  0.1726, -0.1530,  ..., -0.4460, -0.2055, -0.2979],\n",
       "        [-0.1739,  0.1373, -0.2823,  ...,  0.2134,  0.1351, -0.7423]])"
      ]
     },
     "execution_count": 9,
     "metadata": {},
     "output_type": "execute_result"
    }
   ],
   "source": [
    "pretrained_embeddings = TEXT.vocab.vectors\n",
    "\n",
    "model.embedding.weight.data.copy_(pretrained_embeddings)"
   ]
  },
  {
   "cell_type": "code",
   "execution_count": 10,
   "metadata": {},
   "outputs": [],
   "source": [
    "optimizer = optim.Adam(model.parameters())"
   ]
  },
  {
   "cell_type": "code",
   "execution_count": 11,
   "metadata": {},
   "outputs": [],
   "source": [
    "criterion = nn.BCEWithLogitsLoss()\n",
    "\n",
    "model = model.to(device)\n",
    "criterion = criterion.to(device)"
   ]
  },
  {
   "cell_type": "code",
   "execution_count": 12,
   "metadata": {},
   "outputs": [],
   "source": [
    "def binary_accuracy(preds, y):\n",
    "    \"\"\"\n",
    "    Returns accuracy per batch, i.e. if you get 8/10 right, this returns 0.8, NOT 8\n",
    "    \"\"\"\n",
    "\n",
    "    #round predictions to the closest integer\n",
    "    rounded_preds = torch.round(torch.sigmoid(preds))\n",
    "    correct = (rounded_preds == y).float() #convert into float for division \n",
    "    acc = correct.sum()/len(correct)\n",
    "    return acc"
   ]
  },
  {
   "cell_type": "markdown",
   "metadata": {},
   "source": [
    " ## Train function"
   ]
  },
  {
   "cell_type": "code",
   "execution_count": 13,
   "metadata": {},
   "outputs": [],
   "source": [
    "def train(model, iterator, optimizer, criterion):\n",
    "    \n",
    "    epoch_loss = 0\n",
    "    epoch_acc = 0\n",
    "    \n",
    "    model.train()\n",
    "    \n",
    "    for batch in iterator:\n",
    "        \n",
    "        optimizer.zero_grad()\n",
    "        \n",
    "        predictions = model(batch.text).squeeze(1)\n",
    "        \n",
    "        loss = criterion(predictions, batch.label)\n",
    "        \n",
    "        acc = binary_accuracy(predictions, batch.label)\n",
    "        \n",
    "        loss.backward()\n",
    "        \n",
    "        optimizer.step()\n",
    "        \n",
    "        epoch_loss += loss.item()\n",
    "        epoch_acc += acc.item()\n",
    "        \n",
    "    return epoch_loss / len(iterator), epoch_acc / len(iterator)"
   ]
  },
  {
   "cell_type": "markdown",
   "metadata": {},
   "source": [
    "## Evaluation function"
   ]
  },
  {
   "cell_type": "code",
   "execution_count": 14,
   "metadata": {},
   "outputs": [],
   "source": [
    "def evaluate(model, iterator, criterion):\n",
    "    \n",
    "    epoch_loss = 0\n",
    "    epoch_acc = 0\n",
    "    \n",
    "    model.eval()\n",
    "    \n",
    "    with torch.no_grad():\n",
    "    \n",
    "        for batch in iterator:\n",
    "\n",
    "            predictions = model(batch.text).squeeze(1)\n",
    "            \n",
    "            loss = criterion(predictions, batch.label)\n",
    "            \n",
    "            acc = binary_accuracy(predictions, batch.label)\n",
    "\n",
    "            epoch_loss += loss.item()\n",
    "            epoch_acc += acc.item()\n",
    "        \n",
    "    return epoch_loss / len(iterator), epoch_acc / len(iterator)"
   ]
  },
  {
   "cell_type": "markdown",
   "metadata": {},
   "source": [
    "# Training of the model"
   ]
  },
  {
   "cell_type": "code",
   "execution_count": 15,
   "metadata": {},
   "outputs": [
    {
     "name": "stdout",
     "output_type": "stream",
     "text": [
      "| Epoch: 01 | Train Loss: 0.680 | Train Acc: 59.84% | Val. Loss: 0.567 | Val. Acc: 74.63% |\n",
      "| Epoch: 02 | Train Loss: 0.593 | Train Acc: 76.51% | Val. Loss: 0.452 | Val. Acc: 79.84% |\n",
      "| Epoch: 03 | Train Loss: 0.478 | Train Acc: 83.37% | Val. Loss: 0.396 | Val. Acc: 84.69% |\n",
      "| Epoch: 04 | Train Loss: 0.389 | Train Acc: 87.52% | Val. Loss: 0.391 | Val. Acc: 86.96% |\n",
      "| Epoch: 05 | Train Loss: 0.329 | Train Acc: 89.66% | Val. Loss: 0.409 | Val. Acc: 87.94% |\n",
      "| Epoch: 06 | Train Loss: 0.288 | Train Acc: 91.01% | Val. Loss: 0.438 | Val. Acc: 88.88% |\n"
     ]
    }
   ],
   "source": [
    "N_EPOCHS = 6\n",
    "t1 = time.time()\n",
    "for epoch in range(N_EPOCHS):\n",
    "\n",
    "    train_loss, train_acc = train(model, train_iterator, optimizer, criterion)\n",
    "    valid_loss, valid_acc = evaluate(model, valid_iterator, criterion)\n",
    "    \n",
    "    print(f'| Epoch: {epoch+1:02} | Train Loss: {train_loss:.3f} | Train Acc: {train_acc*100:.2f}% | Val. Loss: {valid_loss:.3f} | Val. Acc: {valid_acc*100:.2f}% |')\n",
    "t2 = time.time()"
   ]
  },
  {
   "cell_type": "markdown",
   "metadata": {},
   "source": [
    "## Time taken for the training"
   ]
  },
  {
   "cell_type": "code",
   "execution_count": 16,
   "metadata": {},
   "outputs": [
    {
     "name": "stdout",
     "output_type": "stream",
     "text": [
      "The time taken for training is: 26.67 minutes\n"
     ]
    }
   ],
   "source": [
    "time_of_training = (t2-t1)/60\n",
    "print(f'The time taken for training is: {time_of_training:.2f} minutes')"
   ]
  },
  {
   "cell_type": "markdown",
   "metadata": {},
   "source": [
    "## Test accuracy"
   ]
  },
  {
   "cell_type": "code",
   "execution_count": 17,
   "metadata": {},
   "outputs": [
    {
     "name": "stdout",
     "output_type": "stream",
     "text": [
      "| Test Loss: 0.452 | Test Acc: 88.13% |\n"
     ]
    }
   ],
   "source": [
    "test_loss, test_acc = evaluate(model, test_iterator, criterion)\n",
    "\n",
    "print(f'| Test Loss: {test_loss:.3f} | Test Acc: {test_acc*100:.2f}% |')"
   ]
  },
  {
   "cell_type": "markdown",
   "metadata": {},
   "source": [
    "# User input and sentiment calculation"
   ]
  },
  {
   "cell_type": "code",
   "execution_count": 18,
   "metadata": {},
   "outputs": [],
   "source": [
    "import spacy\n",
    "nlp = spacy.load('en')\n",
    "\n",
    "def predict_sentiment(sentence):\n",
    "    tokenized = [tok.text for tok in nlp.tokenizer(sentence)]\n",
    "    indexed = [TEXT.vocab.stoi[t] for t in tokenized]\n",
    "    tensor = torch.LongTensor(indexed).to(device)\n",
    "    tensor = tensor.unsqueeze(1)\n",
    "    prediction = torch.sigmoid(model(tensor))\n",
    "    return prediction.item()"
   ]
  },
  {
   "cell_type": "markdown",
   "metadata": {},
   "source": [
    "# Testing the model"
   ]
  },
  {
   "cell_type": "markdown",
   "metadata": {},
   "source": [
    "### Function to get the average of the total sentiments"
   ]
  },
  {
   "cell_type": "code",
   "execution_count": 19,
   "metadata": {},
   "outputs": [],
   "source": [
    "def evaluate_reviews(some_review):\n",
    "    total = 0\n",
    "    avg = 0\n",
    "    length = len(some_review)\n",
    "    for i in some_review:\n",
    "        total = total + predict_sentiment(i) \n",
    "    avg = total/length\n",
    "    return avg    "
   ]
  },
  {
   "cell_type": "markdown",
   "metadata": {},
   "source": [
    "### Function for the creation of the histograms"
   ]
  },
  {
   "cell_type": "code",
   "execution_count": 20,
   "metadata": {},
   "outputs": [],
   "source": [
    "def tryplot(some_review):\n",
    "    new_list = []\n",
    "    for i in some_review:\n",
    "        new_list.append(predict_sentiment(i))    \n",
    "    return new_list "
   ]
  },
  {
   "cell_type": "markdown",
   "metadata": {},
   "source": [
    "# Import the CSVs"
   ]
  },
  {
   "cell_type": "code",
   "execution_count": 21,
   "metadata": {},
   "outputs": [],
   "source": [
    "the_becoming            = pd.read_csv(\"reviews/the_becoming.csv\",usecols=[5])\n",
    "middle_earth            = pd.read_csv(\"reviews/middle_earth.csv\",usecols=[5])\n",
    "clue_game               = pd.read_csv(\"reviews/clue_game.csv\",usecols=[5])\n",
    "oculus_vr               = pd.read_csv(\"reviews/oculus_vr.csv\",usecols=[5])\n",
    "toshiba_hdd             = pd.read_csv(\"reviews/toshiba_hdd.csv\",usecols=[5])\n",
    "samsung_gear_s3         = pd.read_csv(\"reviews/samsung_gear_s3.csv\",usecols=[5])\n",
    "sony_1000               = pd.read_csv(\"reviews/sony-1000.csv\",usecols=[5])\n",
    "sandisk_microsd         = pd.read_csv(\"reviews/sandisk-microsd.csv\",usecols=[5])\n",
    "book_kids_cancer        = pd.read_csv(\"reviews/book_kids_cancer.csv\",usecols=[5])\n",
    "the_queen_james_bible   = pd.read_csv(\"reviews/the_queen_james_bible.csv\",usecols=[5])\n",
    "wjzxtek                 = pd.read_csv(\"reviews/wjzxtek_universal_waterproof_case.csv\",usecols=[5])\n",
    "winstal                 = pd.read_csv(\"reviews/winstal_lawn_aerator.csv\",usecols=[5])\n",
    "bose                    = pd.read_csv(\"reviews/bose_quiet_35.csv\",usecols=[5])\n",
    "xbox_controller         = pd.read_csv(\"reviews/xbox_controller.csv\",usecols=[5])\n",
    "read_dead               = pd.read_csv(\"reviews/red_dead.csv\",usecols=[5])\n",
    "wii                     = pd.read_csv(\"reviews/wii.csv\",usecols=[5])\n",
    "logitech_g920           = pd.read_csv(\"reviews/logitech_g920.csv\",usecols=[5])\n",
    "wilson                  = pd.read_csv(\"reviews/wilson.csv\",usecols=[5])\n",
    "ipad_cover              = pd.read_csv(\"reviews/jetech_ipad_cover.csv\",usecols=[5])\n",
    "vector_robot            = pd.read_csv(\"reviews/vector_robot.csv\",usecols=[5])"
   ]
  },
  {
   "cell_type": "markdown",
   "metadata": {},
   "source": [
    "# List the columns"
   ]
  },
  {
   "cell_type": "code",
   "execution_count": 22,
   "metadata": {},
   "outputs": [],
   "source": [
    "the_becoming_reviews                = the_becoming[\"content\"].tolist()\n",
    "middle_earth_reviews                = middle_earth[\"content\"].tolist()\n",
    "clue_game_reviews                   = clue_game[\"content\"].tolist()\n",
    "oculus_vr_reviews                   = oculus_vr[\"content\"].tolist()\n",
    "toshiba_hdd_reviews                 = toshiba_hdd[\"content\"].tolist()\n",
    "sony_1000_reviews                   = sony_1000[\"content\"].tolist()\n",
    "samsung_gear_s3_reviews             = samsung_gear_s3[\"content\"].tolist()\n",
    "sandisk_microsd_reviews             = sandisk_microsd[\"content\"].tolist()\n",
    "book_kids_cancer_reviews            = book_kids_cancer[\"content\"].tolist()\n",
    "the_queen_james_bible_reviews       = the_queen_james_bible[\"content\"].tolist()\n",
    "wjzxtek_reviews                     = wjzxtek[\"content\"].tolist()\n",
    "winstal_reviews                     = winstal[\"content\"].tolist()\n",
    "bose_reviews                        = bose[\"content\"].tolist()\n",
    "xbox_controller_reviews             = xbox_controller[\"content\"].tolist()\n",
    "read_dead_reviews                   = read_dead[\"content\"].tolist()\n",
    "wii_reviews                         = wii[\"content\"].tolist()\n",
    "logitech_g920_reviews               = logitech_g920[\"content\"].tolist()\n",
    "wilson_reviews                      = wilson[\"content\"].tolist()\n",
    "ipad_cover_reviews                  = ipad_cover[\"content\"].tolist()\n",
    "vector_robot_reviews                = vector_robot[\"content\"].tolist()"
   ]
  },
  {
   "cell_type": "markdown",
   "metadata": {},
   "source": [
    "# Evaluation of Reviews "
   ]
  },
  {
   "cell_type": "code",
   "execution_count": 23,
   "metadata": {},
   "outputs": [],
   "source": [
    "the_becoming_eval          = evaluate_reviews(the_becoming_reviews)\n",
    "middle_earth_eval          = evaluate_reviews(middle_earth_reviews)\n",
    "clue_game_eval             = evaluate_reviews(clue_game_reviews)\n",
    "oculus_vr_eval             = evaluate_reviews(oculus_vr_reviews)\n",
    "toshiba_hdd_eval           = evaluate_reviews(toshiba_hdd_reviews)\n",
    "samsung_gear_s3_eval       = evaluate_reviews(samsung_gear_s3_reviews)\n",
    "sony_1000_eval             = evaluate_reviews(sony_1000_reviews)\n",
    "sandisk_microsd_eval       = evaluate_reviews(sandisk_microsd_reviews)\n",
    "book_kids_cancer_eval      = evaluate_reviews(book_kids_cancer_reviews)\n",
    "the_queen_james_bible_eval = evaluate_reviews(the_queen_james_bible_reviews)\n",
    "wjzxtek_eval               = evaluate_reviews(wjzxtek_reviews)\n",
    "winstal_eval               = evaluate_reviews(winstal_reviews)\n",
    "bose_eval                  = evaluate_reviews(bose_reviews)\n",
    "xbox_controller_eval       = evaluate_reviews(xbox_controller_reviews)\n",
    "read_dead_eval             = evaluate_reviews(read_dead_reviews)\n",
    "wii_eval                   = evaluate_reviews(wii_reviews)\n",
    "logitech_g920_eval         = evaluate_reviews(logitech_g920_reviews)\n",
    "wilson_eval                = evaluate_reviews(wilson_reviews)\n",
    "ipad_cover_eval            = evaluate_reviews(ipad_cover_reviews)\n",
    "vector_robot_eval          = evaluate_reviews(vector_robot_reviews)"
   ]
  },
  {
   "cell_type": "markdown",
   "metadata": {},
   "source": [
    "# Results"
   ]
  },
  {
   "cell_type": "code",
   "execution_count": 24,
   "metadata": {},
   "outputs": [
    {
     "name": "stdout",
     "output_type": "stream",
     "text": [
      "The Becoming evaluation                            : 14.25%\n",
      "Middle Earth DVD set evaluation                    : 44.70%\n",
      "Clue Board game evaluation                         : 81.19%\n",
      "Oculus VR evaluation                               : 81.83%\n",
      "Toshiba HDD evaluation                             : 69.62%\n",
      "Samsung Gear S3 evaluation                         : 80.67%\n",
      "Sony WH‑1000XM3  evaluation                        : 75.02%\n",
      "SanDisk MicroSDXC evaluation                       : 75.12%\n",
      "I Wish My Kids Had Cancer evaluation               : 30.33%\n",
      "The Queen James Bible evaluation                   : 33.11%\n",
      "WJZXTEK Universal Waterproof Case evaluation       : 78.22%\n",
      "Wistar Lawn Aerator Shoes Metal Buckles evaluation : 51.17%\n",
      "Bose QuietComfort 35 II evaluation                 : 76.18%\n",
      "Xbox Wireless Controller - Black evaluation        : 69.08%\n",
      "Red Dead Redemption 2 - PlayStation 4 evaluation   : 78.14%\n",
      "Wii evaluation                                     : 86.45%\n",
      "Logitech G920 Dual-Motor evaluation                : 73.78%\n",
      "Wilson Killer Crossover Basketball evaluation      : 80.62%\n",
      "JETech Case for Apple iPad Air evaluation          : 78.44%\n",
      "Vector Robot by Anki evaluation                    : 71.12%\n"
     ]
    }
   ],
   "source": [
    "print(f'The Becoming evaluation                            : {the_becoming_eval*100:.2f}%')\n",
    "print(f'Middle Earth DVD set evaluation                    : {middle_earth_eval*100:.2f}%')\n",
    "print(f'Clue Board game evaluation                         : {clue_game_eval*100:.2f}%')\n",
    "print(f'Oculus VR evaluation                               : {oculus_vr_eval*100:.2f}%')\n",
    "print(f'Toshiba HDD evaluation                             : {toshiba_hdd_eval*100:.2f}%')\n",
    "print(f'Samsung Gear S3 evaluation                         : {samsung_gear_s3_eval*100:.2f}%')\n",
    "print(f'Sony WH‑1000XM3  evaluation                        : {sony_1000_eval*100:.2f}%')\n",
    "print(f'SanDisk MicroSDXC evaluation                       : {sandisk_microsd_eval*100:.2f}%')\n",
    "print(f'I Wish My Kids Had Cancer evaluation               : {book_kids_cancer_eval*100:.2f}%')\n",
    "print(f'The Queen James Bible evaluation                   : {the_queen_james_bible_eval*100:.2f}%')\n",
    "print(f'WJZXTEK Universal Waterproof Case evaluation       : {wjzxtek_eval*100:.2f}%')\n",
    "print(f'Wistar Lawn Aerator Shoes Metal Buckles evaluation : {winstal_eval*100:.2f}%')\n",
    "print(f'Bose QuietComfort 35 II evaluation                 : {bose_eval*100:.2f}%')\n",
    "print(f'Xbox Wireless Controller - Black evaluation        : {xbox_controller_eval*100:.2f}%')\n",
    "print(f'Red Dead Redemption 2 - PlayStation 4 evaluation   : {read_dead_eval*100:.2f}%')\n",
    "print(f'Wii evaluation                                     : {wii_eval*100:.2f}%')\n",
    "print(f'Logitech G920 Dual-Motor evaluation                : {logitech_g920_eval*100:.2f}%')\n",
    "print(f'Wilson Killer Crossover Basketball evaluation      : {wilson_eval*100:.2f}%')\n",
    "print(f'JETech Case for Apple iPad Air evaluation          : {ipad_cover_eval*100:.2f}%')\n",
    "print(f'Vector Robot by Anki evaluation                    : {vector_robot_eval*100:.2f}%')"
   ]
  },
  {
   "cell_type": "markdown",
   "metadata": {},
   "source": [
    "# Histograms "
   ]
  },
  {
   "cell_type": "code",
   "execution_count": 25,
   "metadata": {},
   "outputs": [],
   "source": [
    "plot1 = tryplot(the_becoming_reviews)\n",
    "plot2 = tryplot(middle_earth_reviews)\n",
    "plot3 = tryplot(clue_game_reviews)\n",
    "plot4 = tryplot(oculus_vr_reviews)\n",
    "plot5 = tryplot(toshiba_hdd_reviews)\n",
    "plot6 = tryplot(sony_1000_reviews)\n",
    "plot7 = tryplot(samsung_gear_s3_reviews)\n",
    "plot8 = tryplot(sandisk_microsd_reviews)\n",
    "plot9 = tryplot(book_kids_cancer_reviews)\n",
    "plot10 = tryplot(the_queen_james_bible_reviews)\n",
    "plot11 = tryplot(wjzxtek_reviews)\n",
    "plot12 = tryplot(winstal_reviews)\n",
    "plot13 = tryplot(bose_reviews)\n",
    "plot14 = tryplot(xbox_controller_reviews)\n",
    "plot15 = tryplot(read_dead_reviews)\n",
    "plot16 = tryplot(wii_reviews)\n",
    "plot17 = tryplot(logitech_g920_reviews)\n",
    "plot18 = tryplot(wilson_reviews)\n",
    "plot19 = tryplot(ipad_cover_reviews)\n",
    "plot20 = tryplot(vector_robot_reviews)"
   ]
  },
  {
   "cell_type": "code",
   "execution_count": 26,
   "metadata": {
    "scrolled": false
   },
   "outputs": [
    {
     "data": {
      "image/png": "[encoded data removed]",
      "text/plain": [
       "<Figure size 720x864 with 20 Axes>"
      ]
     },
     "metadata": {
      "needs_background": "light"
     },
     "output_type": "display_data"
    }
   ],
   "source": [
    "f, axes = plt.subplots(10, 2, figsize=(10,12), sharex=False)\n",
    "plt.subplots_adjust(hspace = 0.8)\n",
    "plt.subplots_adjust(top  = 1.5)\n",
    "plt.subplots_adjust(wspace = 0.9)\n",
    "plt.subplots_adjust(right  = 1.2)\n",
    "\n",
    "\n",
    "sns.distplot(plot1, hist=True, kde=False, \n",
    "             bins=int(360/60), color = 'blue',\n",
    "             hist_kws={'edgecolor':'black'},ax=axes[0, 0],axlabel=\"Percentage(%)\").set_title('Sentiment Analysis of \"The Becoming\"')\n",
    "\n",
    "sns.distplot(plot2, hist=True, kde=False, \n",
    "             bins=int(360/60), color = 'blue',\n",
    "             hist_kws={'edgecolor':'black'},ax=axes[0, 1],axlabel=\"Percentage(%)\").set_title('Sentiment Analysis of \"Middle Earth DVD set\"')\n",
    "\n",
    "sns.distplot(plot3, hist=True, kde=False, \n",
    "             bins=int(360/60), color = 'blue',\n",
    "             hist_kws={'edgecolor':'black'},ax=axes[1, 0],axlabel=\"Percentage(%)\").set_title('Sentiment Analysis of \"Clue Board game\"')\n",
    "\n",
    "sns.distplot(plot4, hist=True, kde=False, \n",
    "             bins=int(360/60), color = 'blue',\n",
    "             hist_kws={'edgecolor':'black'},ax=axes[1, 1],axlabel=\"Percentage(%)\").set_title('Sentiment Analysis of \"Oculus VR\"')\n",
    "\n",
    "sns.distplot(plot5, hist=True, kde=False, \n",
    "             bins=int(360/60), color = 'blue',\n",
    "             hist_kws={'edgecolor':'black'},ax=axes[2, 0],axlabel=\"Percentage(%)\").set_title('Sentiment Analysis of \"Toshiba HDD\"')\n",
    "\n",
    "sns.distplot(plot6, hist=True, kde=False, \n",
    "             bins=int(360/60), color = 'blue',\n",
    "             hist_kws={'edgecolor':'black'},ax=axes[2, 1],axlabel=\"Percentage(%)\").set_title('Sentiment Analysis of \"Sony WH‑1000XM3')\n",
    "\n",
    "sns.distplot(plot7, hist=True, kde=False, \n",
    "             bins=int(360/60), color = 'blue',\n",
    "             hist_kws={'edgecolor':'black'},ax=axes[3, 0],axlabel=\"Percentage(%)\").set_title('Sentiment Analysis of \"Samsung Gear S3\"')\n",
    "\n",
    "sns.distplot(plot8, hist=True, kde=False, \n",
    "             bins=int(360/60), color = 'blue',\n",
    "             hist_kws={'edgecolor':'black'},ax=axes[3, 1],axlabel=\"Percentage(%)\").set_title('Sentiment Analysis of \"SanDisk MicroSDXC\"')\n",
    "\n",
    "sns.distplot(plot9, hist=True, kde=False, \n",
    "             bins=int(360/60), color = 'blue',\n",
    "             hist_kws={'edgecolor':'black'},ax=axes[4, 0],axlabel=\"Percentage(%)\").set_title('Sentiment Analysis of \"I Wish My Kids Had Cancer(book)\"')\n",
    "\n",
    "sns.distplot(plot10, hist=True, kde=False, \n",
    "             bins=int(360/60), color = 'blue',\n",
    "             hist_kws={'edgecolor':'black'},ax=axes[4, 1],axlabel=\"Percentage(%)\").set_title('Sentiment Analysis of \"The Queen James Bible\"')\n",
    "\n",
    "sns.distplot(plot11, hist=True, kde=False, \n",
    "             bins=int(360/60), color = 'blue',\n",
    "             hist_kws={'edgecolor':'black'},ax=axes[5, 0],axlabel=\"Percentage(%)\").set_title('Sentiment Analysis of \"WJZXTEK Universal Waterproof Case\"')\n",
    "\n",
    "sns.distplot(plot12, hist=True, kde=False, \n",
    "             bins=int(360/60), color = 'blue',\n",
    "             hist_kws={'edgecolor':'black'},ax=axes[5, 1],axlabel=\"Percentage(%)\").set_title('Sentiment Analysis of \"Wistar Lawn Aerator Shoes Metal Buckles\"')\n",
    "\n",
    "sns.distplot(plot13, hist=True, kde=False, \n",
    "             bins=int(360/60), color = 'blue',\n",
    "             hist_kws={'edgecolor':'black'},ax=axes[6, 0],axlabel=\"Percentage(%)\").set_title('Sentiment Analysis of \"Bose QuietComfort 35 II\"')\n",
    "\n",
    "sns.distplot(plot14, hist=True, kde=False, \n",
    "             bins=int(360/60), color = 'blue',\n",
    "             hist_kws={'edgecolor':'black'},ax=axes[6, 1],axlabel=\"Percentage(%)\").set_title('Sentiment Analysis of \"Xbox Wireless Controller - Black\"')\n",
    "\n",
    "sns.distplot(plot15, hist=True, kde=False, \n",
    "             bins=int(360/60), color = 'blue',\n",
    "             hist_kws={'edgecolor':'black'},ax=axes[7, 0],axlabel=\"Percentage(%)\").set_title('Sentiment Analysis of \"Red Dead Redemption 2 - PlayStation 4\"')\n",
    "\n",
    "sns.distplot(plot16, hist=True, kde=False, \n",
    "             bins=int(360/60), color = 'blue',\n",
    "             hist_kws={'edgecolor':'black'},ax=axes[7, 1],axlabel=\"Percentage(%)\").set_title('Sentiment Analysis of \"Wii\"')\n",
    "\n",
    "sns.distplot(plot17, hist=True, kde=False, \n",
    "             bins=int(360/60), color = 'blue',\n",
    "             hist_kws={'edgecolor':'black'},ax=axes[8, 0],axlabel=\"Percentage(%)\").set_title('Sentiment Analysis of \"Logitech G920 Dual-Motor\"')\n",
    "\n",
    "sns.distplot(plot18, hist=True, kde=False, \n",
    "             bins=int(360/60), color = 'blue',\n",
    "             hist_kws={'edgecolor':'black'},ax=axes[8, 1],axlabel=\"Percentage(%)\").set_title('Sentiment Analysis of \"Wilson Killer Crossover Basketball\"')\n",
    "\n",
    "sns.distplot(plot19, hist=True, kde=False, \n",
    "             bins=int(360/60), color = 'blue',\n",
    "             hist_kws={'edgecolor':'black'},ax=axes[9, 0],axlabel=\"Percentage(%)\").set_title('Sentiment Analysis of \"JETech Case for Apple iPad Air\"')\n",
    "\n",
    "sns.distplot(plot20, hist=True, kde=False, \n",
    "             bins=int(360/60), color = 'blue',\n",
    "             hist_kws={'edgecolor':'black'},ax=axes[9, 1],axlabel=\"Percentage(%)\").set_title('Sentiment Analysis of \"Vector Robot by Anki\"')\n",
    "\n",
    "plt.savefig('histograms.png', bbox_inches='tight')"
   ]
  },
  {
   "cell_type": "code",
   "execution_count": null,
   "metadata": {},
   "outputs": [],
   "source": []
  }
 ],
 "metadata": {
  "kernelspec": {
   "display_name": "Python 3",
   "language": "python",
   "name": "python3"
  },
  "language_info": {
   "codemirror_mode": {
    "name": "ipython",
    "version": 3
   },
   "file_extension": ".py",
   "mimetype": "text/x-python",
   "name": "python",
   "nbconvert_exporter": "python",
   "pygments_lexer": "ipython3",
   "version": "3.6.4"
  }
 },
 "nbformat": 4,
 "nbformat_minor": 2
}
